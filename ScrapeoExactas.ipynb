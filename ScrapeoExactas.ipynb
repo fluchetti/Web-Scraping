{
  "nbformat": 4,
  "nbformat_minor": 0,
  "metadata": {
    "colab": {
      "provenance": [],
      "authorship_tag": "ABX9TyOTkAFJ8xHF8pyhUEbcb/F7",
      "include_colab_link": true
    },
    "kernelspec": {
      "name": "python3",
      "display_name": "Python 3"
    },
    "language_info": {
      "name": "python"
    }
  },
  "cells": [
    {
      "cell_type": "markdown",
      "metadata": {
        "id": "view-in-github",
        "colab_type": "text"
      },
      "source": [
        "<a href=\"https://colab.research.google.com/github/fluchetti/Web-Scraping/blob/main/ScrapeoExactas.ipynb\" target=\"_parent\"><img src=\"https://colab.research.google.com/assets/colab-badge.svg\" alt=\"Open In Colab\"/></a>"
      ]
    },
    {
      "cell_type": "markdown",
      "source": [
        "Notebook para practicar web scraping.\n",
        "\n",
        "Primero escrapeo las carreras de grado que se dictan en la FCEyN UBA, luego las materias que dicta el DM en el cuatrimestre indicado."
      ],
      "metadata": {
        "id": "ts9exhEYtTXm"
      }
    },
    {
      "cell_type": "code",
      "execution_count": 78,
      "metadata": {
        "id": "FGCI6uvrqrsA"
      },
      "outputs": [],
      "source": [
        "import requests\n",
        "from bs4 import BeautifulSoup"
      ]
    },
    {
      "cell_type": "code",
      "source": [
        "url = \"https://exactas.uba.ar/ensenanza/carreras-de-grado/\"\n",
        "\n",
        "web = requests.get(url)\n",
        "if web.status_code == 200:\n",
        "  soup = BeautifulSoup(web.text, \"html.parser\")\n",
        "  print(\"Exito.\")\n",
        "else:\n",
        "  print(\"Error al realizar la peticion.\")"
      ],
      "metadata": {
        "colab": {
          "base_uri": "https://localhost:8080/"
        },
        "id": "w9ITKwBxqyh7",
        "outputId": "bb315985-b751-4b74-92d0-f3e331327483"
      },
      "execution_count": 79,
      "outputs": [
        {
          "output_type": "stream",
          "name": "stdout",
          "text": [
            "Exito.\n"
          ]
        }
      ]
    },
    {
      "cell_type": "markdown",
      "source": [
        "Las carreras se guardan en una lista desordenada (ul), cada una es un elemento de la lista (li)."
      ],
      "metadata": {
        "id": "WQ7XN_rVwK7v"
      }
    },
    {
      "cell_type": "code",
      "source": [
        "listado = soup.find(name = \"ul\" , class_ = \"listado carreras grado\") "
      ],
      "metadata": {
        "id": "AUJpguxZrt1y"
      },
      "execution_count": 80,
      "outputs": []
    },
    {
      "cell_type": "code",
      "source": [
        "carreras = listado.find_all(name = \"li\")"
      ],
      "metadata": {
        "id": "jRSAx_jNr7Od"
      },
      "execution_count": 81,
      "outputs": []
    },
    {
      "cell_type": "code",
      "source": [
        "carreras[0:2]"
      ],
      "metadata": {
        "colab": {
          "base_uri": "https://localhost:8080/"
        },
        "id": "ZDMAZiRVwTqd",
        "outputId": "449ac131-28eb-4d9c-ad33-e162e2653a75"
      },
      "execution_count": 82,
      "outputs": [
        {
          "output_type": "execute_result",
          "data": {
            "text/plain": [
              "[<li class=\"list-carrera ciencias-biologicas\">\n",
              " <a href=\"https://exactas.uba.ar/ensenanza/carreras-de-grado/ciencias-biologicas/\" rel=\"bookmark\" title=\"Ciencias Biológicas\">\n",
              " <div class=\"thumbnail\"><img alt=\"\" class=\"attachment-medium size-medium wp-post-image\" height=\"166\" src=\"https://exactas.uba.ar/wp-content/uploads/2017/05/biologia-384x213.jpg\" width=\"300\"/></div>\n",
              " <h2 class=\"titulo\">Ciencias Biológicas</h2>\n",
              " <div class=\"desc\"></div>\n",
              " </a>\n",
              " </li>, <li class=\"list-carrera ciencias-de-datos\">\n",
              " <a href=\"https://exactas.uba.ar/ensenanza/carreras-de-grado/ciencias-de-datos/\" rel=\"bookmark\" title=\"Ciencias de Datos\">\n",
              " <div class=\"thumbnail\"><img alt=\"\" class=\"attachment-medium size-medium wp-post-image\" height=\"166\" loading=\"lazy\" src=\"https://exactas.uba.ar/wp-content/uploads/2020/08/lcd-384x213.png\" width=\"300\"/></div>\n",
              " <h2 class=\"titulo\">Ciencias de Datos</h2>\n",
              " <div class=\"desc\"></div>\n",
              " </a>\n",
              " </li>]"
            ]
          },
          "metadata": {},
          "execution_count": 82
        }
      ]
    },
    {
      "cell_type": "markdown",
      "source": [
        "Los links de las paginas de las carreras vienen en los anchor y sus nombres se almacenan en titulos h2."
      ],
      "metadata": {
        "id": "w6K7eKkKwf5A"
      }
    },
    {
      "cell_type": "code",
      "source": [
        "dic = dict()\n",
        "for carrera in carreras:\n",
        "  dic[carrera.h2.text] = carrera.a[\"href\"]"
      ],
      "metadata": {
        "id": "3sBgc5Q1sDi6"
      },
      "execution_count": 83,
      "outputs": []
    },
    {
      "cell_type": "code",
      "source": [
        "for carrera in dic.items():\n",
        "  print(carrera[0] + \": \" + carrera[1])"
      ],
      "metadata": {
        "colab": {
          "base_uri": "https://localhost:8080/"
        },
        "id": "_AbheDFrs7mN",
        "outputId": "135a07c5-b341-4348-e359-d58a1d74d851"
      },
      "execution_count": 84,
      "outputs": [
        {
          "output_type": "stream",
          "name": "stdout",
          "text": [
            "Ciencias Biológicas: https://exactas.uba.ar/ensenanza/carreras-de-grado/ciencias-biologicas/\n",
            "Ciencias de Datos: https://exactas.uba.ar/ensenanza/carreras-de-grado/ciencias-de-datos/\n",
            "Ciencias de la Atmósfera: https://exactas.uba.ar/ensenanza/carreras-de-grado/ciencias-de-la-atmosfera/\n",
            "Ciencias de la Computación: https://exactas.uba.ar/ensenanza/carreras-de-grado/ciencias-de-la-computacion/\n",
            "Ciencias Físicas: https://exactas.uba.ar/ensenanza/carreras-de-grado/ciencias-fisicas/\n",
            "Ciencias Geológicas: https://exactas.uba.ar/ensenanza/carreras-de-grado/ciencias-geologicas/\n",
            "Ciencias Matemáticas: https://exactas.uba.ar/ensenanza/carreras-de-grado/ciencias-matematicas/\n",
            "Ciencias Químicas: https://exactas.uba.ar/ensenanza/carreras-de-grado/ciencias-quimicas/\n",
            "Ciencia y Tecnología de Alimentos: https://exactas.uba.ar/ensenanza/carreras-de-grado/ciencia-y-tecnologia-de-alimentos/\n",
            "Oceanografía: https://exactas.uba.ar/ensenanza/carreras-de-grado/oceanografia/\n",
            "Paleontología: https://exactas.uba.ar/ensenanza/carreras-de-grado/paleontologia/\n",
            "Profesorados en Ciencias: https://exactas.uba.ar/ensenanza/carreras-de-grado/profesorados-en-ciencias/\n"
          ]
        }
      ]
    },
    {
      "cell_type": "markdown",
      "source": [
        "Ahora voy a scrapear las materias que dicta el DM en el cuatrimestre indicado"
      ],
      "metadata": {
        "id": "GzKSTPlXtQ_L"
      }
    },
    {
      "cell_type": "code",
      "source": [
        "url_base = \"https://cms.dm.uba.ar/academico/materias/\"\n",
        "cuatrimestre = \"2docuat2022/\"  # esto es lo que hay que cambiar dependiendo el cuatrimestre que se busque"
      ],
      "metadata": {
        "id": "7XcMArc3ZKO9"
      },
      "execution_count": 85,
      "outputs": []
    },
    {
      "cell_type": "code",
      "source": [
        "web = requests.get(url_base+cuatrimestre)\n",
        "if web.status_code == 200:\n",
        "  soup = BeautifulSoup(web.text, \"html.parser\")\n",
        "  print(\"Exito.\")\n",
        "else:\n",
        "  print(\"Ocurrio un error al solicitar los datos.\")"
      ],
      "metadata": {
        "id": "sbeI6KU9ZUnx",
        "colab": {
          "base_uri": "https://localhost:8080/"
        },
        "outputId": "4ace15d6-445b-4ffe-d8eb-c3ce9c3180a7"
      },
      "execution_count": 86,
      "outputs": [
        {
          "output_type": "stream",
          "name": "stdout",
          "text": [
            "Exito.\n"
          ]
        }
      ]
    },
    {
      "cell_type": "markdown",
      "source": [
        "Las materias se guardan dentro de una lista descriptiva (dl) y cada materia será un termino (dt = description term) de la lista."
      ],
      "metadata": {
        "id": "ZuHa-3LvxH_f"
      }
    },
    {
      "cell_type": "code",
      "source": [
        "contenido = soup.find(name=\"dl\")\n",
        "contenido"
      ],
      "metadata": {
        "colab": {
          "base_uri": "https://localhost:8080/"
        },
        "id": "ne_H19ArZbui",
        "outputId": "5e6f7b49-95cf-4c16-d6c5-e0f7ad66a04f"
      },
      "execution_count": 92,
      "outputs": [
        {
          "output_type": "execute_result",
          "data": {
            "text/plain": [
              "<dl>\n",
              "<dt>\n",
              "<a href=\"https://cms.dm.uba.ar/academico/materias/2docuat2022/Algebra%20I/\">\n",
              "<img alt=\"Segundo cuatrimestre 2022\" src=\"https://cms.dm.uba.ar/Workgroup.gif\"/>\n",
              "</a>\n",
              "<a href=\"https://cms.dm.uba.ar/academico/materias/2docuat2022/Algebra%20I/\">Álgebra I</a>\n",
              "</dt>\n",
              "<dd>\n",
              "<span>Segundo Cuatrimestre 2022</span>\n",
              "</dd>\n",
              "<dt>\n",
              "<a href=\"https://cms.dm.uba.ar/academico/materias/2docuat2022/Algebra%20II/\">\n",
              "<img alt=\"Segundo cuatrimestre 2022\" src=\"https://cms.dm.uba.ar/Workgroup.gif\"/>\n",
              "</a>\n",
              "<a href=\"https://cms.dm.uba.ar/academico/materias/2docuat2022/Algebra%20II/\">Álgebra II (Licenciatura) Tópicos de álgebra II (Doctorado)</a>\n",
              "</dt>\n",
              "<dd>\n",
              "<span>Segundo Cuatrimestre 2022</span>\n",
              "</dd>\n",
              "<dt>\n",
              "<a href=\"https://cms.dm.uba.ar/academico/materias/2docuat2022/algebra_III/\">\n",
              "<img alt=\"Segundo cuatrimestre 2022\" src=\"https://cms.dm.uba.ar/Workgroup.gif\"/>\n",
              "</a>\n",
              "<a href=\"https://cms.dm.uba.ar/academico/materias/2docuat2022/algebra_III/\">Álgebra III</a>\n",
              "</dt>\n",
              "<dd>\n",
              "<span>Segundo cuatrimestre 2022</span>\n",
              "</dd>\n",
              "<dt>\n",
              "<a href=\"https://cms.dm.uba.ar/academico/materias/2docuat2022/algebra_lineal/\">\n",
              "<img alt=\"Segundo cuatrimestre 2022\" src=\"https://cms.dm.uba.ar/Workgroup.gif\"/>\n",
              "</a>\n",
              "<a href=\"https://cms.dm.uba.ar/academico/materias/2docuat2022/algebra_lineal/\">Álgebra Lineal</a>\n",
              "</dt>\n",
              "<dd>\n",
              "<span>Segundo Cuatrimestre 2022</span>\n",
              "</dd>\n",
              "<dt>\n",
              "<a href=\"https://cms.dm.uba.ar/academico/materias/2docuat2022/Algebra_lineal_computacional/\">\n",
              "<img alt=\"Segundo cuatrimestre 2022\" src=\"https://cms.dm.uba.ar/Workgroup.gif\"/>\n",
              "</a>\n",
              "<a href=\"https://cms.dm.uba.ar/academico/materias/2docuat2022/Algebra_lineal_computacional/\">Algebra Lineal Computacional</a>\n",
              "</dt>\n",
              "<dd>\n",
              "<span>Segundo cuatrimestre 2022</span>\n",
              "</dd>\n",
              "<dt>\n",
              "<a href=\"https://cms.dm.uba.ar/academico/materias/2docuat2022/analisis_1_M/\">\n",
              "<img alt=\"Segundo cuatrimestre 2022\" src=\"https://cms.dm.uba.ar/Workgroup.gif\"/>\n",
              "</a>\n",
              "<a href=\"https://cms.dm.uba.ar/academico/materias/2docuat2022/analisis_1_M/\">Análisis I - Análisis Matemático I - Matemática 1 - Análisis II (C)</a>\n",
              "</dt>\n",
              "<dd>\n",
              "<span>Segundo Cuatrimestre de 2022</span>\n",
              "</dd>\n",
              "<dt>\n",
              "<a href=\"https://cms.dm.uba.ar/academico/materias/2docuat2022/analisis_1_alimentos/\">\n",
              "<img alt=\"Segundo cuatrimestre 2022\" src=\"https://cms.dm.uba.ar/Workgroup.gif\"/>\n",
              "</a>\n",
              "<a href=\"https://cms.dm.uba.ar/academico/materias/2docuat2022/analisis_1_alimentos/\">Análisis 1 para la Licenciatura en Alimentos</a>\n",
              "</dt>\n",
              "<dd>\n",
              "<span>Segundo Cuatrimestre de 2022</span>\n",
              "</dd>\n",
              "<dt>\n",
              "<a href=\"https://cms.dm.uba.ar/academico/materias/2docuat2022/analisis_avanzado/\">\n",
              "<img alt=\"Segundo cuatrimestre 2022\" src=\"https://cms.dm.uba.ar/Workgroup.gif\"/>\n",
              "</a>\n",
              "<a href=\"https://cms.dm.uba.ar/academico/materias/2docuat2022/analisis_avanzado/\">Análisis Avanzado</a>\n",
              "</dt>\n",
              "<dd>\n",
              "<span>Segundo cuatrimestre 2022</span>\n",
              "</dd>\n",
              "<dt>\n",
              "<a href=\"https://cms.dm.uba.ar/academico/materias/2docuat2022/analisis_II/\">\n",
              "<img alt=\"Segundo cuatrimestre 2022\" src=\"https://cms.dm.uba.ar/Workgroup.gif\"/>\n",
              "</a>\n",
              "<a href=\"https://cms.dm.uba.ar/academico/materias/2docuat2022/analisis_II/\">Análisis  II - Análisis Matemático II -  Matemática 3</a>\n",
              "</dt>\n",
              "<dd>\n",
              "<span>Segundo Cuatrimestre 2022</span>\n",
              "</dd>\n",
              "<dt>\n",
              "<a href=\"https://cms.dm.uba.ar/academico/materias/2docuat2022/analisis_complejo/\">\n",
              "<img alt=\"Segundo cuatrimestre 2022\" src=\"https://cms.dm.uba.ar/Workgroup.gif\"/>\n",
              "</a>\n",
              "<a href=\"https://cms.dm.uba.ar/academico/materias/2docuat2022/analisis_complejo/\">Análisis Complejo</a>\n",
              "</dt>\n",
              "<dd>\n",
              "<span>Segundo Cuatrimestre de 2022</span>\n",
              "</dd>\n",
              "<dt>\n",
              "<a href=\"https://cms.dm.uba.ar/academico/materias/2docuat2022/curvas_elipticas/\">\n",
              "<img alt=\"Segundo cuatrimestre 2022\" src=\"https://cms.dm.uba.ar/Workgroup.gif\"/>\n",
              "</a>\n",
              "<a href=\"https://cms.dm.uba.ar/academico/materias/2docuat2022/curvas_elipticas/\">Aritmética de curvas elípticas (Lic) - Tópicos de curvas elípticas (Doc)</a>\n",
              "</dt>\n",
              "<dd>\n",
              "<span>Segundo cuatrimestre 2022</span>\n",
              "</dd>\n",
              "<dt>\n",
              "<a href=\"https://cms.dm.uba.ar/academico/materias/2docuat2022/analisis_multivariado_II/\">\n",
              "<img alt=\"Segundo cuatrimestre 2022\" src=\"https://cms.dm.uba.ar/Workgroup.gif\"/>\n",
              "</a>\n",
              "<a href=\"https://cms.dm.uba.ar/academico/materias/2docuat2022/analisis_multivariado_II/\">Análisis Multivariado II</a>\n",
              "</dt>\n",
              "<dd>\n",
              "<span>Segundo cuatrimestre 2021</span>\n",
              "</dd>\n",
              "<dt>\n",
              "<a href=\"https://cms.dm.uba.ar/academico/materias/2docuat2022/calculo_avanzado/\">\n",
              "<img alt=\"Segundo cuatrimestre 2022\" src=\"https://cms.dm.uba.ar/Workgroup.gif\"/>\n",
              "</a>\n",
              "<a href=\"https://cms.dm.uba.ar/academico/materias/2docuat2022/calculo_avanzado/\">Cálculo Avanzado</a>\n",
              "</dt>\n",
              "<dd>\n",
              "<span>Segundo Cuatrimestre de 2022</span>\n",
              "</dd>\n",
              "<dt>\n",
              "<a href=\"https://cms.dm.uba.ar/academico/materias/2docuat2022/elementos_calculo_numerico_M/\">\n",
              "<img alt=\"Segundo cuatrimestre 2022\" src=\"https://cms.dm.uba.ar/Workgroup.gif\"/>\n",
              "</a>\n",
              "<a href=\"https://cms.dm.uba.ar/academico/materias/2docuat2022/elementos_calculo_numerico_M/\">Elementos de Cálculo Numérico - Cálculo Numérico</a>\n",
              "</dt>\n",
              "<dd>\n",
              "<span>Segundo Cuatrimestre de 2022</span>\n",
              "</dd>\n",
              "<dt>\n",
              "<a href=\"https://cms.dm.uba.ar/academico/materias/2docuat2022/Estadistica_M/\">\n",
              "<img alt=\"Segundo cuatrimestre 2022\" src=\"https://cms.dm.uba.ar/Workgroup.gif\"/>\n",
              "</a>\n",
              "<a href=\"https://cms.dm.uba.ar/academico/materias/2docuat2022/Estadistica_M/\">Estadística (LIC) - Intr. a la Estadística y C¡encia de Datos (LCD) - Tópicos de Estadística (DOC)</a>\n",
              "</dt>\n",
              "<dd>\n",
              "<span>Segundo cuatrimestre 2022</span>\n",
              "</dd>\n",
              "<dt>\n",
              "<a href=\"https://cms.dm.uba.ar/academico/materias/2docuat2022/geometria_algebraica/\">\n",
              "<img alt=\"Segundo cuatrimestre 2022\" src=\"https://cms.dm.uba.ar/Workgroup.gif\"/>\n",
              "</a>\n",
              "<a href=\"https://cms.dm.uba.ar/academico/materias/2docuat2022/geometria_algebraica/\">Geometría Algebraica</a>\n",
              "</dt>\n",
              "<dd>\n",
              "<span>Segundo cuatrimestre 2022</span>\n",
              "</dd>\n",
              "<dt>\n",
              "<a href=\"https://cms.dm.uba.ar/academico/materias/2docuat2022/geometria_proyectiva/\">\n",
              "<img alt=\"Segundo cuatrimestre 2022\" src=\"https://cms.dm.uba.ar/Workgroup.gif\"/>\n",
              "</a>\n",
              "<a href=\"https://cms.dm.uba.ar/academico/materias/2docuat2022/geometria_proyectiva/\">Geometría Proyectiva (Lic) Tópicos de Geometría Proyectiva (Doc)</a>\n",
              "</dt>\n",
              "<dd>\n",
              "<span>Segundo cuatrimestre 2022\n",
              "</span>\n",
              "</dd>\n",
              "<dt>\n",
              "<a href=\"https://cms.dm.uba.ar/academico/materias/2docuat2022/historia_de_la_ciencia/\">\n",
              "<img alt=\"Segundo cuatrimestre 2022\" src=\"https://cms.dm.uba.ar/Workgroup.gif\"/>\n",
              "</a>\n",
              "<a href=\"https://cms.dm.uba.ar/academico/materias/2docuat2022/historia_de_la_ciencia/\">Historia de la Ciencia</a>\n",
              "</dt>\n",
              "<dd>\n",
              "<span>Segundo cuatrimestre 2022 - ver la info en el campus</span>\n",
              "</dd>\n",
              "<dt>\n",
              "<a href=\"https://cms.dm.uba.ar/academico/materias/2docuat2022/homologia_ciclica\">\n",
              "<img alt=\"Segundo cuatrimestre 2022\" src=\"https://cms.dm.uba.ar/link_icon.gif\"/>\n",
              "</a>\n",
              "<a class=\"link-plain\" href=\"https://mate.dm.uba.ar/~dmukherjee/cyclic-homology/\">Homología Cíclica</a>\n",
              "</dt>\n",
              "<dd>\n",
              "<span>Segundo cuatrimestre 2022</span>\n",
              "</dd>\n",
              "<dt>\n",
              "<a href=\"https://cms.dm.uba.ar/academico/materias/2docuat2022/Investigacion_operativa/\">\n",
              "<img alt=\"Segundo cuatrimestre 2022\" src=\"https://cms.dm.uba.ar/Workgroup.gif\"/>\n",
              "</a>\n",
              "<a href=\"https://cms.dm.uba.ar/academico/materias/2docuat2022/Investigacion_operativa/\">Investigación operativa (LIC) - Intr. a la Inv. Operativa y Optimización (LCD) - Tópicos de Inv. Operativa (DOC)</a>\n",
              "</dt>\n",
              "<dd>\n",
              "<span>Segundo cuatrimestre 2022</span>\n",
              "</dd>\n",
              "<dt>\n",
              "<a href=\"https://cms.dm.uba.ar/academico/materias/2docuat2022/introduccion_al_modelado_continuo/\">\n",
              "<img alt=\"Segundo cuatrimestre 2022\" src=\"https://cms.dm.uba.ar/Workgroup.gif\"/>\n",
              "</a>\n",
              "<a href=\"https://cms.dm.uba.ar/academico/materias/2docuat2022/introduccion_al_modelado_continuo/\">Introducción al Modelado Continuo</a>\n",
              "</dt>\n",
              "<dd>\n",
              "<span>Segundo cuatrimestre 2022</span>\n",
              "</dd>\n",
              "<dt>\n",
              "<a href=\"https://cms.dm.uba.ar/academico/materias/2docuat2022/matematica_I_B/\">\n",
              "<img alt=\"Segundo cuatrimestre 2022\" src=\"https://cms.dm.uba.ar/Workgroup.gif\"/>\n",
              "</a>\n",
              "<a href=\"https://cms.dm.uba.ar/academico/materias/2docuat2022/matematica_I_B/\">Matemática I (Biología)</a>\n",
              "</dt>\n",
              "<dd>\n",
              "<span>Segundo cuatrimestre 2022</span>\n",
              "</dd>\n",
              "<dt>\n",
              "<a href=\"https://cms.dm.uba.ar/academico/materias/2docuat2022/matematica_II_B/\">\n",
              "<img alt=\"Segundo cuatrimestre 2022\" src=\"https://cms.dm.uba.ar/Workgroup.gif\"/>\n",
              "</a>\n",
              "<a href=\"https://cms.dm.uba.ar/academico/materias/2docuat2022/matematica_II_B/\">Matemática II (Biología)</a>\n",
              "</dt>\n",
              "<dd>\n",
              "<span>Segundo cuatrimestre 2022</span>\n",
              "</dd>\n",
              "<dt>\n",
              "<a href=\"https://cms.dm.uba.ar/academico/materias/2docuat2022/matematica2/\">\n",
              "<img alt=\"Segundo cuatrimestre 2022\" src=\"https://cms.dm.uba.ar/Workgroup.gif\"/>\n",
              "</a>\n",
              "<a href=\"https://cms.dm.uba.ar/academico/materias/2docuat2022/matematica2/\">Matemática 2 </a>\n",
              "</dt>\n",
              "<dd>\n",
              "<span>Segundo Cuatrimestre 2022</span>\n",
              "</dd>\n",
              "<dt>\n",
              "<a href=\"https://cms.dm.uba.ar/academico/materias/2docuat2022/matematica4/\">\n",
              "<img alt=\"Segundo cuatrimestre 2022\" src=\"https://cms.dm.uba.ar/Workgroup.gif\"/>\n",
              "</a>\n",
              "<a href=\"https://cms.dm.uba.ar/academico/materias/2docuat2022/matematica4/\">Matemática 4 - Análisis matemático III</a>\n",
              "</dt>\n",
              "<dd>\n",
              "<span>Segundo cuatrimestre 2022</span>\n",
              "</dd>\n",
              "<dt>\n",
              "<a href=\"https://cms.dm.uba.ar/academico/materias/2docuat2022/modelos_lineales_generalizados/\">\n",
              "<img alt=\"Segundo cuatrimestre 2022\" src=\"https://cms.dm.uba.ar/Workgroup.gif\"/>\n",
              "</a>\n",
              "<a href=\"https://cms.dm.uba.ar/academico/materias/2docuat2022/modelos_lineales_generalizados/\">Introducción a los Modelos lineales generalizados</a>\n",
              "</dt>\n",
              "<dd>\n",
              "<span>Segundo cuatrimestre 2022\n",
              "\n",
              "</span>\n",
              "</dd>\n",
              "<dt>\n",
              "<a href=\"https://cms.dm.uba.ar/academico/materias/2docuat2022/probabilidades_y_estadistica_M/\">\n",
              "<img alt=\"Segundo cuatrimestre 2022\" src=\"https://cms.dm.uba.ar/Workgroup.gif\"/>\n",
              "</a>\n",
              "<a href=\"https://cms.dm.uba.ar/academico/materias/2docuat2022/probabilidades_y_estadistica_M/\">Probabilidades y Estadística (Matemática) - Probabilidades (LCD)</a>\n",
              "</dt>\n",
              "<dd>\n",
              "<span>Segundo Cuatrimestre 2022</span>\n",
              "</dd>\n",
              "<dt>\n",
              "<a href=\"https://cms.dm.uba.ar/academico/materias/2docuat2022/probabilidades_y_estadistica_C/\">\n",
              "<img alt=\"Segundo cuatrimestre 2022\" src=\"https://cms.dm.uba.ar/Workgroup.gif\"/>\n",
              "</a>\n",
              "<a href=\"https://cms.dm.uba.ar/academico/materias/2docuat2022/probabilidades_y_estadistica_C/\">Probabilidades y Estadística (C)</a>\n",
              "</dt>\n",
              "<dd>\n",
              "<span>Segundo cuatrimestre 2022</span>\n",
              "</dd>\n",
              "<dt>\n",
              "<a href=\"https://cms.dm.uba.ar/academico/materias/2docuat2022/taller_de_calculo_avanzado/\">\n",
              "<img alt=\"Segundo cuatrimestre 2022\" src=\"https://cms.dm.uba.ar/Workgroup.gif\"/>\n",
              "</a>\n",
              "<a href=\"https://cms.dm.uba.ar/academico/materias/2docuat2022/taller_de_calculo_avanzado/\">Taller de Cálculo Avanzado</a>\n",
              "</dt>\n",
              "<dd>\n",
              "<span>Segundo Cuatrimestre 2022</span>\n",
              "</dd>\n",
              "<dt>\n",
              "<a href=\"https://cms.dm.uba.ar/academico/materias/2docuat2022/link.2022-08-04.4792780390\">\n",
              "<img alt=\"Segundo cuatrimestre 2022\" src=\"https://cms.dm.uba.ar/link_icon.gif\"/>\n",
              "</a>\n",
              "<a class=\"link-plain\" href=\"https://sites.google.com/view/teoriadeprobabilidades/p%C3%A1gina-principal\">Teoría de Probabilidades</a>\n",
              "</dt>\n",
              "<dd>\n",
              "<span>Segundo cuatrimestre 2022</span>\n",
              "</dd>\n",
              "<dt>\n",
              "<a href=\"https://cms.dm.uba.ar/academico/materias/2docuat2022/Topologia/\">\n",
              "<img alt=\"Segundo cuatrimestre 2022\" src=\"https://cms.dm.uba.ar/Workgroup.gif\"/>\n",
              "</a>\n",
              "<a href=\"https://cms.dm.uba.ar/academico/materias/2docuat2022/Topologia/\">Topología </a>\n",
              "</dt>\n",
              "<dd>\n",
              "<span>Segundo cuatrimestre 2022</span>\n",
              "</dd>\n",
              "</dl>"
            ]
          },
          "metadata": {},
          "execution_count": 92
        }
      ]
    },
    {
      "cell_type": "markdown",
      "source": [
        "Se ve que por materia hay dos etiquetas anchor, la primera es para el icono a la izquierda del nombre. Ambas conectan a la pagina de la materia pero solo la segunda almacena el nombre."
      ],
      "metadata": {
        "id": "1YDvqjj2xs9R"
      }
    },
    {
      "cell_type": "code",
      "source": [
        "cuatrimestre = contenido.find(\"span\").text\n",
        "materias = contenido.find_all(\"a\")[1::2] # Esto es para quedarme solo con los nombres de las materias."
      ],
      "metadata": {
        "id": "PS4xCuKXZw17"
      },
      "execution_count": 88,
      "outputs": []
    },
    {
      "cell_type": "code",
      "source": [
        "print(\"\\t\"+cuatrimestre)\n",
        "for materia in materias:\n",
        "  print(materia.text)"
      ],
      "metadata": {
        "colab": {
          "base_uri": "https://localhost:8080/"
        },
        "id": "HuZxtdyNZ2hG",
        "outputId": "dfc5e22f-9727-4088-bf44-a8d8aa07fcc8"
      },
      "execution_count": 89,
      "outputs": [
        {
          "output_type": "stream",
          "name": "stdout",
          "text": [
            "\tSegundo Cuatrimestre 2022\n",
            "Álgebra I\n",
            "Álgebra II (Licenciatura) Tópicos de álgebra II (Doctorado)\n",
            "Álgebra III\n",
            "Álgebra Lineal\n",
            "Algebra Lineal Computacional\n",
            "Análisis I - Análisis Matemático I - Matemática 1 - Análisis II (C)\n",
            "Análisis 1 para la Licenciatura en Alimentos\n",
            "Análisis Avanzado\n",
            "Análisis  II - Análisis Matemático II -  Matemática 3\n",
            "Análisis Complejo\n",
            "Aritmética de curvas elípticas (Lic) - Tópicos de curvas elípticas (Doc)\n",
            "Análisis Multivariado II\n",
            "Cálculo Avanzado\n",
            "Elementos de Cálculo Numérico - Cálculo Numérico\n",
            "Estadística (LIC) - Intr. a la Estadística y C¡encia de Datos (LCD) - Tópicos de Estadística (DOC)\n",
            "Geometría Algebraica\n",
            "Geometría Proyectiva (Lic) Tópicos de Geometría Proyectiva (Doc)\n",
            "Historia de la Ciencia\n",
            "Homología Cíclica\n",
            "Investigación operativa (LIC) - Intr. a la Inv. Operativa y Optimización (LCD) - Tópicos de Inv. Operativa (DOC)\n",
            "Introducción al Modelado Continuo\n",
            "Matemática I (Biología)\n",
            "Matemática II (Biología)\n",
            "Matemática 2 \n",
            "Matemática 4 - Análisis matemático III\n",
            "Introducción a los Modelos lineales generalizados\n",
            "Probabilidades y Estadística (Matemática) - Probabilidades (LCD)\n",
            "Probabilidades y Estadística (C)\n",
            "Taller de Cálculo Avanzado\n",
            "Teoría de Probabilidades\n",
            "Topología \n"
          ]
        }
      ]
    }
  ]
}